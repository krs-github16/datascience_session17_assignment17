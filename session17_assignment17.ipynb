{
 "cells": [
  {
   "cell_type": "markdown",
   "metadata": {},
   "source": [
    "# Problem Statement 1:\n",
    "Blood glucose levels for obese patients have a mean of 100 with a standard deviation of 15. A researcher thinks that a diet high in raw cornstarch will have a positive effect onblood glucose levels. A sample of 36 patients who have tried the raw cornstarch diet have a mean glucose level of 108. Test the hypothesis that the raw cornstarch had an effect or not."
   ]
  },
  {
   "cell_type": "code",
   "execution_count": 2,
   "metadata": {},
   "outputs": [
    {
     "name": "stdout",
     "output_type": "stream",
     "text": [
      "calculated z_score is:3.2\n"
     ]
    }
   ],
   "source": [
    "import math\n",
    "\n",
    "p_mu=100\n",
    "p_sigma=15\n",
    "\n",
    "s_x= 108 # for sample size of 36 students\n",
    "n=36\n",
    "s_sigma = p_sigma/math.sqrt(n)\n",
    "\n",
    "\n",
    "\n",
    "# H0: μ= 100\n",
    "# H1: μ > 100\n",
    "\n",
    "# Set up the significance level. It is not given in the problem so let’s assume it as 5% (0.05).\n",
    "\n",
    "alpha=0.05\n",
    "\n",
    "z_score=(s_x-p_mu)/s_sigma\n",
    "\n",
    "print(\"calculated z_score is:{}\".format(z_score))\n"
   ]
  },
  {
   "cell_type": "markdown",
   "metadata": {},
   "source": [
    "\n",
    "\n",
    "# Setting significance level can  be done using z-value known as critical value. Find out the z- value of 5% probability and it is 1.65. Now we can compare calculated z-value with critical value to make a decision.\n",
    "\n",
    "# It is less than 3.2 so we will reject the Null hypothesis in support of alternate hypothesis i.e. there is raw cornstarch effect."
   ]
  },
  {
   "cell_type": "markdown",
   "metadata": {},
   "source": [
    "# Problem Statement 2:\n",
    "In one state, 52% of the voters are Republicans, and 48% are Democrats. In a second\n",
    "state, 47% of the voters are Republicans, and 53% are Democrats. Suppose a simple\n",
    "random sample of 100 voters are surveyed from each state.\n",
    "What is the probability that the survey will show a greater percentage of Republican\n",
    "voters in the second state than in the first state?"
   ]
  },
  {
   "cell_type": "code",
   "execution_count": 17,
   "metadata": {},
   "outputs": [
    {
     "name": "stdout",
     "output_type": "stream",
     "text": [
      "calculated z_diff is -0.7080278164104213\n"
     ]
    }
   ],
   "source": [
    "import math\n",
    "\n",
    "P1=0.52\n",
    "P2=0.47\n",
    "\n",
    "n1=100\n",
    "n2=100\n",
    "\n",
    "\n",
    "# Find the mean of the difference in sample proportions: E(p1 - p2) = P1 - P2 = 0.52 - 0.47 = 0.05.\n",
    "\n",
    "# H0: x_diff= 0\n",
    "# H1: x_diff!=0\n",
    "\n",
    "x_diff=0\n",
    "mu_diff= P1 - P2\n",
    "\n",
    "# Find the standard deviation of the difference.\n",
    "Sd = math.sqrt(((P1*(1-P1))/n1)+((P2*(1-P2))/n2))\n",
    "\n",
    "# This problem requires us to find the probability that p1 is less than p2. This is equivalent to finding the probability that p1 - p2 is less than zero. To find this probability, we need to transform the random variable (p1 - p2) into a z-score. That transformation appears below.\n",
    "\n",
    "z_diff = (x_diff - mu_diff ) / Sd\n",
    "\n",
    "\n",
    "print(\"calculated z_diff is\",z_diff)\n",
    " \n"
   ]
  },
  {
   "cell_type": "markdown",
   "metadata": {},
   "source": [
    "# Using Normal Distribution Calculator, we find that the probability of a z-score being -0.7082 or less is 0.24.\n",
    "# Therefore, the probability that the survey will show a greater percentage of Republican voters in the second state than in the first state is 0.24."
   ]
  },
  {
   "cell_type": "markdown",
   "metadata": {},
   "source": [
    "# Problem Statement 3:\n",
    "You take the SAT and score 1100. The mean score for the SAT is 1026 and the standard\n",
    "deviation is 209. How well did you score on the test compared to the average test taker?"
   ]
  },
  {
   "cell_type": "code",
   "execution_count": 15,
   "metadata": {},
   "outputs": [
    {
     "name": "stdout",
     "output_type": "stream",
     "text": [
      "calculated z_score is:0.35406698564593303\n"
     ]
    }
   ],
   "source": [
    "mu=1026\n",
    "Sd=209\n",
    "\n",
    "x=1100\n",
    "\n",
    "z_score=(x-mu)/Sd\n",
    "\n",
    "print(\"calculated z_score is:{}\".format(z_score))"
   ]
  },
  {
   "cell_type": "markdown",
   "metadata": {},
   "source": [
    "Find values on the right of the mean in this z-table. Table entries for z represent the area under the bell curve to the left of z. Positive scores in the Z-table correspond to  the values which are greater than the mean."
   ]
  },
  {
   "cell_type": "markdown",
   "metadata": {},
   "source": [
    "# The area under the curve for calculated z_score is 0.6368 which says the students performed better than 63.68% of the total students\n",
    "\n",
    "# In other words I'm in TOP 36.34 % of the total candidates "
   ]
  },
  {
   "cell_type": "code",
   "execution_count": 16,
   "metadata": {},
   "outputs": [
    {
     "name": "stdout",
     "output_type": "stream",
     "text": [
      "end of assignment\n"
     ]
    }
   ],
   "source": [
    "print(\"end of assignment\")"
   ]
  },
  {
   "cell_type": "code",
   "execution_count": null,
   "metadata": {},
   "outputs": [],
   "source": []
  }
 ],
 "metadata": {
  "kernelspec": {
   "display_name": "Python 3",
   "language": "python",
   "name": "python3"
  },
  "language_info": {
   "codemirror_mode": {
    "name": "ipython",
    "version": 3
   },
   "file_extension": ".py",
   "mimetype": "text/x-python",
   "name": "python",
   "nbconvert_exporter": "python",
   "pygments_lexer": "ipython3",
   "version": "3.6.5"
  }
 },
 "nbformat": 4,
 "nbformat_minor": 2
}
